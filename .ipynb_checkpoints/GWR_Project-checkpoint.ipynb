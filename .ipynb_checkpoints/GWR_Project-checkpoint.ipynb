{
 "cells": [
  {
   "cell_type": "markdown",
   "metadata": {},
   "source": [
    "# GPH 596 Advanced Spatial Statistics\n",
    "# Project Description\n",
    "\n",
    "## Team\n",
    "\n",
    " - Taylor Oshan\n",
    " - Qunshan Zhao\n",
    "\n",
    "## Description\n",
    "\n",
    "The primary prupose of this project will be to initiate a geographically weighted regression (GWR) module following the development standards of PySAL. GWR is a local statistical modeling technique that relies on computational statistic algorithms and is fundamentally geographic in nature. GWR helps to capture the spatial nonstationarity effects and is widely applied in many different applications. Important concepts include cross-validation/bandwidth selection techniques, spatial weighting/kernel functions, and localized diagnostics. To date, there are no open source python implementations that are available in a format conducive to automated workflows. This project seeks to fill that gap by providing base classes for GWR models, as well as the necessary utility functions for carrying out different types of bandwidth selections, various kernel weighting fucntions, and a simplified API for interacting with a GWR model. As a result, it should be possible to more easily carry out a GWR analysis using programmatic tools and to integrate it within a larger python framework. In addition, this project will serve as a foundation for introducing new GWR variations and associated tools in python.  \n",
    "\n",
    "## Project location\n",
    "\n",
    "The project code will be housed in [this repository](https://github.com/TaylorOshan/GIS596_GWR).\n",
    "\n",
    "## Tentative plans\n",
    "\n",
    "- Refactor and clean existing python code written as a desktop GUI software.\n",
    "- Identify areas of overlap between existing PySAL codebase and existing GWR software (i.e., weighting functions).\n",
    "- Modify existing code to be harmonius with PySAL IO and data strcutures. \n",
    "- Write documentation for GWR classes and utility functions.\n",
    "- Optimize GWR code where possible.\n",
    "\n",
    "## Deliverables\n",
    "\n",
    "- GWR base class along with classes for a Gaussian, Poisson, and Logistic GWR.\n",
    "- Utility functions to carry out bandwidth selection, kernel weighting, and diagnostics.\n",
    "- Documentation and examples of usage.\n",
    "\n",
    "## Roles of the team members\n",
    " \n",
    "Taylor Oshan:\n",
    " \n",
    " - Identify where GWR and PySAL codebase overlap\n",
    " - Modify GWR to work with PySAL IO\n",
    " - Optimize GWR code where possible\n",
    " \n",
    "Qunshan Zhao:\n",
    " \n",
    " - Clean and rewrite existing python codes that are written as a desktop GUI software to fit with PySAL framework. \n",
    " - Write documentation for GWR classes and utility functions.\n",
    " - Create several examples for using GWR in Ipython notebook. \n",
    "     "
   ]
  },
  {
   "cell_type": "code",
   "execution_count": null,
   "metadata": {
    "collapsed": true
   },
   "outputs": [],
   "source": []
  }
 ],
 "metadata": {
  "kernelspec": {
   "display_name": "Python 2",
   "language": "python",
   "name": "python2"
  },
  "language_info": {
   "codemirror_mode": {
    "name": "ipython",
    "version": 2
   },
   "file_extension": ".py",
   "mimetype": "text/x-python",
   "name": "python",
   "nbconvert_exporter": "python",
   "pygments_lexer": "ipython2",
   "version": "2.7.9"
  }
 },
 "nbformat": 4,
 "nbformat_minor": 0
}
